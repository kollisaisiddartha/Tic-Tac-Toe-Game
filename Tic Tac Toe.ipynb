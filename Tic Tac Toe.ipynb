{
 "cells": [
  {
   "cell_type": "code",
   "execution_count": 1,
   "id": "8ad221fd",
   "metadata": {},
   "outputs": [],
   "source": [
    "#Display of board\n",
    "from IPython.display import clear_output\n",
    "def display_board(board):\n",
    "    \n",
    "    clear_output()\n",
    "    \n",
    "    print(board[7]+'|'+board[8]+'|'+board[9])\n",
    "    print(board[4]+'|'+board[5]+'|'+board[6])\n",
    "    print(board[1]+'|'+board[2]+'|'+board[3])\n",
    "\n",
    "    "
   ]
  },
  {
   "cell_type": "code",
   "execution_count": 2,
   "id": "75062382",
   "metadata": {},
   "outputs": [
    {
     "name": "stdout",
     "output_type": "stream",
     "text": [
      "o|x|o\n",
      "x|o|x\n",
      "o|x|o\n"
     ]
    }
   ],
   "source": [
    "#Test of display\n",
    "test_display = ['none','o','x','o','x','o','x','o','x','o','x']\n",
    "display_board(test_display)\n",
    "display_board(test_display)"
   ]
  },
  {
   "cell_type": "code",
   "execution_count": 3,
   "id": "56e6832d",
   "metadata": {},
   "outputs": [],
   "source": [
    "#Taking values and giving markers to players\n",
    "def player_input():\n",
    "    marker = ''\n",
    "    \n",
    "    while not (marker == 'X' or marker == 'O'):\n",
    "        marker = input('Player 1: Marker(X/O):').upper()\n",
    "\n",
    "    if marker == 'X':\n",
    "        return ('X', 'O')\n",
    "    else:\n",
    "        return ('O', 'X')\n",
    "        "
   ]
  },
  {
   "cell_type": "code",
   "execution_count": 4,
   "id": "fc0be396",
   "metadata": {},
   "outputs": [
    {
     "name": "stdout",
     "output_type": "stream",
     "text": [
      "Player 1: Marker(X/O):x\n"
     ]
    },
    {
     "data": {
      "text/plain": [
       "('X', 'O')"
      ]
     },
     "execution_count": 4,
     "metadata": {},
     "output_type": "execute_result"
    }
   ],
   "source": [
    "#testing input values\n",
    "player_input()"
   ]
  },
  {
   "cell_type": "code",
   "execution_count": 5,
   "id": "edc4c07a",
   "metadata": {},
   "outputs": [],
   "source": [
    "#to place the marker in the selected position (0-9) position is based on numpad keys\n",
    "def place_input(board,marker,position):\n",
    "    board[position] = marker"
   ]
  },
  {
   "cell_type": "code",
   "execution_count": 6,
   "id": "84b2296f",
   "metadata": {},
   "outputs": [
    {
     "name": "stdout",
     "output_type": "stream",
     "text": [
      "o|#|o\n",
      "x|o|x\n",
      "o|x|o\n"
     ]
    }
   ],
   "source": [
    "#test of input positions keys\n",
    "place_input(test_display,'#',8)\n",
    "display_board(test_display)"
   ]
  },
  {
   "cell_type": "code",
   "execution_count": 7,
   "id": "9c230fee",
   "metadata": {},
   "outputs": [],
   "source": [
    "#to check the winning of the game\n",
    "def win_check(board,mark):\n",
    "     return ((board[7] == mark and board[8] == mark and board[9] == mark) or #top row\n",
    "    (board[4] == mark and board[5] == mark and board[6] == mark) or #middle row\n",
    "    (board[1] == mark and board[2] == mark and board[3] == mark) or #bottom row\n",
    "    (board[7] == mark and board[4] == mark and board[1] == mark) or #middle column\n",
    "    (board[8] == mark and board[5] == mark and board[2] == mark) or # left column\n",
    "    (board[9] == mark and board[6] == mark and board[3] == mark) or # right column\n",
    "    (board[7] == mark and board[5] == mark and board[3] == mark) or # diagonal 1\n",
    "    (board[9] == mark and board[5] == mark and board[1] == mark)) # diagonal 2"
   ]
  },
  {
   "cell_type": "code",
   "execution_count": 8,
   "id": "3c3a5ddd",
   "metadata": {},
   "outputs": [
    {
     "data": {
      "text/plain": [
       "True"
      ]
     },
     "execution_count": 8,
     "metadata": {},
     "output_type": "execute_result"
    }
   ],
   "source": [
    "#testing win check\n",
    "win_check(test_display,'o')"
   ]
  },
  {
   "cell_type": "code",
   "execution_count": 9,
   "id": "6c3dc8e7",
   "metadata": {},
   "outputs": [],
   "source": [
    "# to start the game with random players\n",
    "import random\n",
    "def first_start():\n",
    "    flip = random.randint(0,1)\n",
    "    \n",
    "    if flip == 0:\n",
    "        return 'Player 1'\n",
    "    else:\n",
    "        return 'Player 2'"
   ]
  },
  {
   "cell_type": "code",
   "execution_count": 10,
   "id": "aad4d3bc",
   "metadata": {},
   "outputs": [],
   "source": [
    "# to check whether the space is free or not\n",
    "def space_check(board, position):\n",
    "    \n",
    "    return board[position] == ' '\n",
    "    "
   ]
  },
  {
   "cell_type": "code",
   "execution_count": 11,
   "id": "d6ce8f27",
   "metadata": {},
   "outputs": [],
   "source": [
    "# to check whether the board is full or not\n",
    "def full_board_check(board):\n",
    "    for i in range(1,10):\n",
    "        if space_check(board, i):\n",
    "            return False\n",
    "    return True                  # if space is not present the returns TRUE"
   ]
  },
  {
   "cell_type": "code",
   "execution_count": 12,
   "id": "097b354d",
   "metadata": {},
   "outputs": [],
   "source": [
    "# to ask for players next position and check with the space function\n",
    "def player_choice(board):\n",
    "    position = 0\n",
    "    \n",
    "    while position not in [1,2,3,4,5,6,7,8,9] or not space_check(board, position):\n",
    "        position = int(input('Choose your next position: (1-9) '))\n",
    "        \n",
    "    return position"
   ]
  },
  {
   "cell_type": "code",
   "execution_count": 13,
   "id": "717f3eed",
   "metadata": {},
   "outputs": [],
   "source": [
    "#function that asks the player if they want to play again and returns a boolean True if they do want to play again\n",
    "def replay():\n",
    "    \n",
    "    return input('Do you want to play again? Enter Yes or No: ').lower().startswith('y')"
   ]
  },
  {
   "cell_type": "code",
   "execution_count": 14,
   "id": "63333554",
   "metadata": {},
   "outputs": [
    {
     "name": "stdout",
     "output_type": "stream",
     "text": [
      "X| | \n",
      "X|O| \n",
      "X|O| \n",
      "Player 2 has won!\n",
      "Do you want to play again? Enter Yes or No: n\n"
     ]
    }
   ],
   "source": [
    "###main game with all the above functions\n",
    "print('Welcome to Tic Tac Toe!')\n",
    "\n",
    "while True:\n",
    "    # Reset the board\n",
    "    theBoard = [' '] * 10\n",
    "    player1_marker, player2_marker = player_input()\n",
    "    turn = first_start()\n",
    "    print(turn + ' will go first.')\n",
    "    \n",
    "    play_game = input('Ready to play? Enter Yes or No.')\n",
    "    \n",
    "    if play_game.lower()[0] == 'y':\n",
    "        game_on = True\n",
    "    else:\n",
    "        game_on = False\n",
    "\n",
    "    while game_on:\n",
    "        \n",
    "        if turn == 'Player 1':\n",
    "            # Player1's turn.\n",
    "            \n",
    "            display_board(theBoard)\n",
    "            position = player_choice(theBoard)\n",
    "            place_input(theBoard, player1_marker, position)\n",
    "\n",
    "            if win_check(theBoard, player1_marker):\n",
    "                display_board(theBoard)\n",
    "                print('Congratulations! You have won the game!')\n",
    "                game_on = False\n",
    "            else:\n",
    "                if full_board_check(theBoard):\n",
    "                    display_board(theBoard)\n",
    "                    print('The game is a draw!')\n",
    "                    break\n",
    "                else:\n",
    "                    turn = 'Player 2'\n",
    "                    \n",
    "        else:\n",
    "            \n",
    "            # Player2's turn.\n",
    "            \n",
    "            display_board(theBoard)\n",
    "            position = player_choice(theBoard)\n",
    "            place_input(theBoard, player2_marker, position)\n",
    "\n",
    "            if win_check(theBoard, player2_marker):\n",
    "                display_board(theBoard)\n",
    "                print('Player 2 has won!')\n",
    "                game_on = False\n",
    "            else:\n",
    "                if full_board_check(theBoard):\n",
    "                    display_board(theBoard)\n",
    "                    print('The game is a draw!')\n",
    "                    break\n",
    "                else:\n",
    "                    turn = 'Player 1'\n",
    "\n",
    "    if not replay():\n",
    "        break               "
   ]
  },
  {
   "cell_type": "code",
   "execution_count": null,
   "id": "961096d7",
   "metadata": {},
   "outputs": [],
   "source": []
  }
 ],
 "metadata": {
  "kernelspec": {
   "display_name": "Python 3 (ipykernel)",
   "language": "python",
   "name": "python3"
  },
  "language_info": {
   "codemirror_mode": {
    "name": "ipython",
    "version": 3
   },
   "file_extension": ".py",
   "mimetype": "text/x-python",
   "name": "python",
   "nbconvert_exporter": "python",
   "pygments_lexer": "ipython3",
   "version": "3.10.9"
  }
 },
 "nbformat": 4,
 "nbformat_minor": 5
}
